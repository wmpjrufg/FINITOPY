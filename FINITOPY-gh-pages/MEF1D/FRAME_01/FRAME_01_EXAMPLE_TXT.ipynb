{
 "cells": [
  {
   "cell_type": "markdown",
   "metadata": {
    "id": "auFYjstN9CtF"
   },
   "source": [
    "## 1.0 - Install and import library"
   ]
  },
  {
   "cell_type": "code",
   "execution_count": 1,
   "metadata": {
    "id": "Ttc__SIc9CtG"
   },
   "outputs": [
    {
     "name": "stdout",
     "output_type": "stream",
     "text": [
      "Looking in indexes: https://test.pypi.org/simple/\n",
      "Requirement already satisfied: FINITO-FEM-TOOLBOX in c:\\programdata\\anaconda3\\lib\\site-packages (0.0.0)\n"
     ]
    }
   ],
   "source": [
    "!pip install -i https://test.pypi.org/simple/ FINITO-FEM-TOOLBOX\n",
    "from FINITO_FEM_TOOLBOX import *"
   ]
  },
  {
   "cell_type": "markdown",
   "metadata": {
    "id": "dZ0BlJAr9CtG"
   },
   "source": [
    "## 2.0 - Run FINITO framework ```.txt``` file"
   ]
  },
  {
   "cell_type": "code",
   "execution_count": 2,
   "metadata": {
    "id": "hY3y_ug69CtH"
   },
   "outputs": [],
   "source": [
    "FRAME_01_RESULTS = MEF1D(FILENAME = 'FRAME_01.txt')"
   ]
  },
  {
   "cell_type": "markdown",
   "metadata": {
    "id": "9iy1a1wp9CtH"
   },
   "source": [
    "## 3.0 - View results in command line"
   ]
  },
  {
   "cell_type": "markdown",
   "metadata": {
    "id": "T1YnJOlj9CtH"
   },
   "source": [
    "View results about **0** element"
   ]
  },
  {
   "cell_type": "code",
   "execution_count": 3,
   "metadata": {
    "id": "dugWcDj09CtH"
   },
   "outputs": [
    {
     "name": "stdout",
     "output_type": "stream",
     "text": [
      "{'X': array([0. , 0.3, 0.6, 0.9, 1.2, 1.5, 1.8, 2.1, 2.4, 2.7, 3. ]), 'UX': array([ 0.00000000e+00, -1.98900000e+03, -1.98900000e+03, -1.98900000e+03,\n",
      "       -1.98900000e+03, -1.98900000e+03, -1.98900000e+03, -1.98900000e+03,\n",
      "       -1.98900000e+03, -1.98900000e+03, -4.28442356e-05]), 'UY': array([ 0.00000000e+00, -1.98900000e+03, -1.98900000e+03, -1.98900000e+03,\n",
      "       -1.98900000e+03, -1.98900000e+03, -1.98900000e+03, -1.98900000e+03,\n",
      "       -1.98900000e+03, -1.98900000e+03,  4.42077327e-06]), 'UZ': array([ 0.000000e+00, -1.989000e+03, -1.989000e+03, -1.989000e+03,\n",
      "       -1.989000e+03, -1.989000e+03, -1.989000e+03, -1.989000e+03,\n",
      "       -1.989000e+03, -1.989000e+03, -3.468227e-20]), 'N': array([2829.29489136, 2829.29489136, 2829.29489136, 2829.29489136,\n",
      "       2829.29489136, 2829.29489136, 2829.29489136, 2829.29489136,\n",
      "       2829.29489136, 2829.29489136, 2829.29489136]), 'V': array([-121.9061316, -121.9061316, -121.9061316, -121.9061316,\n",
      "       -121.9061316, -121.9061316, -121.9061316, -121.9061316,\n",
      "       -121.9061316, -121.9061316, -121.9061316]), 'M': array([ 3.65718395e+02,  3.29146555e+02,  2.92574716e+02,  2.56002876e+02,\n",
      "        2.19431037e+02,  1.82859197e+02,  1.46287358e+02,  1.09715518e+02,\n",
      "        7.31436790e+01,  3.65718395e+01, -5.68434189e-14]), 'ID_ELEMENT': 0}\n"
     ]
    }
   ],
   "source": [
    "FRAME_01_BAR_0 = FRAME_01_RESULTS[0] \n",
    "print(FRAME_01_BAR_0)"
   ]
  },
  {
   "cell_type": "markdown",
   "metadata": {
    "id": "LZ10Lcen9CtI"
   },
   "source": [
    "### 3.1 - View ```axial``` internal load"
   ]
  },
  {
   "cell_type": "code",
   "execution_count": 4,
   "metadata": {
    "id": "hNAH0LNd9CtI"
   },
   "outputs": [
    {
     "data": {
      "text/plain": [
       "array([2829.29489136, 2829.29489136, 2829.29489136, 2829.29489136,\n",
       "       2829.29489136, 2829.29489136, 2829.29489136, 2829.29489136,\n",
       "       2829.29489136, 2829.29489136, 2829.29489136])"
      ]
     },
     "execution_count": 4,
     "metadata": {},
     "output_type": "execute_result"
    }
   ],
   "source": [
    "FRAME_01_BAR_0['N']"
   ]
  },
  {
   "cell_type": "markdown",
   "metadata": {
    "id": "Ifs1UB9E9CtI"
   },
   "source": [
    "- ```FRAME_01_BAR_0['N'][0]``` - First DIV or 0 internal node in 0 Element;\n",
    "- ```FRAME_01_BAR_0['N'][10]``` - Last DIV or 1 internal node in 0 Element."
   ]
  },
  {
   "cell_type": "markdown",
   "metadata": {
    "id": "FjgGFywT9CtJ"
   },
   "source": [
    "### 3.1 - Interesting view ```axial``` internal load using ```pandas``` framework"
   ]
  },
  {
   "cell_type": "code",
   "execution_count": 5,
   "metadata": {
    "id": "4PcyVvNl9CtJ"
   },
   "outputs": [
    {
     "data": {
      "text/html": [
       "<div>\n",
       "<style scoped>\n",
       "    .dataframe tbody tr th:only-of-type {\n",
       "        vertical-align: middle;\n",
       "    }\n",
       "\n",
       "    .dataframe tbody tr th {\n",
       "        vertical-align: top;\n",
       "    }\n",
       "\n",
       "    .dataframe thead th {\n",
       "        text-align: right;\n",
       "    }\n",
       "</style>\n",
       "<table border=\"1\" class=\"dataframe\">\n",
       "  <thead>\n",
       "    <tr style=\"text-align: right;\">\n",
       "      <th></th>\n",
       "      <th>X</th>\n",
       "      <th>UX</th>\n",
       "      <th>UY</th>\n",
       "      <th>UZ</th>\n",
       "      <th>N</th>\n",
       "      <th>V</th>\n",
       "      <th>M</th>\n",
       "      <th>ID_ELEMENT</th>\n",
       "    </tr>\n",
       "  </thead>\n",
       "  <tbody>\n",
       "    <tr>\n",
       "      <th>0</th>\n",
       "      <td>0.0</td>\n",
       "      <td>0.000000</td>\n",
       "      <td>0.000000</td>\n",
       "      <td>0.000000e+00</td>\n",
       "      <td>2829.294891</td>\n",
       "      <td>-121.906132</td>\n",
       "      <td>3.657184e+02</td>\n",
       "      <td>0</td>\n",
       "    </tr>\n",
       "    <tr>\n",
       "      <th>1</th>\n",
       "      <td>0.3</td>\n",
       "      <td>-1989.000000</td>\n",
       "      <td>-1989.000000</td>\n",
       "      <td>-1.989000e+03</td>\n",
       "      <td>2829.294891</td>\n",
       "      <td>-121.906132</td>\n",
       "      <td>3.291466e+02</td>\n",
       "      <td>0</td>\n",
       "    </tr>\n",
       "    <tr>\n",
       "      <th>2</th>\n",
       "      <td>0.6</td>\n",
       "      <td>-1989.000000</td>\n",
       "      <td>-1989.000000</td>\n",
       "      <td>-1.989000e+03</td>\n",
       "      <td>2829.294891</td>\n",
       "      <td>-121.906132</td>\n",
       "      <td>2.925747e+02</td>\n",
       "      <td>0</td>\n",
       "    </tr>\n",
       "    <tr>\n",
       "      <th>3</th>\n",
       "      <td>0.9</td>\n",
       "      <td>-1989.000000</td>\n",
       "      <td>-1989.000000</td>\n",
       "      <td>-1.989000e+03</td>\n",
       "      <td>2829.294891</td>\n",
       "      <td>-121.906132</td>\n",
       "      <td>2.560029e+02</td>\n",
       "      <td>0</td>\n",
       "    </tr>\n",
       "    <tr>\n",
       "      <th>4</th>\n",
       "      <td>1.2</td>\n",
       "      <td>-1989.000000</td>\n",
       "      <td>-1989.000000</td>\n",
       "      <td>-1.989000e+03</td>\n",
       "      <td>2829.294891</td>\n",
       "      <td>-121.906132</td>\n",
       "      <td>2.194310e+02</td>\n",
       "      <td>0</td>\n",
       "    </tr>\n",
       "    <tr>\n",
       "      <th>5</th>\n",
       "      <td>1.5</td>\n",
       "      <td>-1989.000000</td>\n",
       "      <td>-1989.000000</td>\n",
       "      <td>-1.989000e+03</td>\n",
       "      <td>2829.294891</td>\n",
       "      <td>-121.906132</td>\n",
       "      <td>1.828592e+02</td>\n",
       "      <td>0</td>\n",
       "    </tr>\n",
       "    <tr>\n",
       "      <th>6</th>\n",
       "      <td>1.8</td>\n",
       "      <td>-1989.000000</td>\n",
       "      <td>-1989.000000</td>\n",
       "      <td>-1.989000e+03</td>\n",
       "      <td>2829.294891</td>\n",
       "      <td>-121.906132</td>\n",
       "      <td>1.462874e+02</td>\n",
       "      <td>0</td>\n",
       "    </tr>\n",
       "    <tr>\n",
       "      <th>7</th>\n",
       "      <td>2.1</td>\n",
       "      <td>-1989.000000</td>\n",
       "      <td>-1989.000000</td>\n",
       "      <td>-1.989000e+03</td>\n",
       "      <td>2829.294891</td>\n",
       "      <td>-121.906132</td>\n",
       "      <td>1.097155e+02</td>\n",
       "      <td>0</td>\n",
       "    </tr>\n",
       "    <tr>\n",
       "      <th>8</th>\n",
       "      <td>2.4</td>\n",
       "      <td>-1989.000000</td>\n",
       "      <td>-1989.000000</td>\n",
       "      <td>-1.989000e+03</td>\n",
       "      <td>2829.294891</td>\n",
       "      <td>-121.906132</td>\n",
       "      <td>7.314368e+01</td>\n",
       "      <td>0</td>\n",
       "    </tr>\n",
       "    <tr>\n",
       "      <th>9</th>\n",
       "      <td>2.7</td>\n",
       "      <td>-1989.000000</td>\n",
       "      <td>-1989.000000</td>\n",
       "      <td>-1.989000e+03</td>\n",
       "      <td>2829.294891</td>\n",
       "      <td>-121.906132</td>\n",
       "      <td>3.657184e+01</td>\n",
       "      <td>0</td>\n",
       "    </tr>\n",
       "    <tr>\n",
       "      <th>10</th>\n",
       "      <td>3.0</td>\n",
       "      <td>-0.000043</td>\n",
       "      <td>0.000004</td>\n",
       "      <td>-3.468227e-20</td>\n",
       "      <td>2829.294891</td>\n",
       "      <td>-121.906132</td>\n",
       "      <td>-5.684342e-14</td>\n",
       "      <td>0</td>\n",
       "    </tr>\n",
       "  </tbody>\n",
       "</table>\n",
       "</div>"
      ],
      "text/plain": [
       "      X           UX           UY            UZ            N           V  \\\n",
       "0   0.0     0.000000     0.000000  0.000000e+00  2829.294891 -121.906132   \n",
       "1   0.3 -1989.000000 -1989.000000 -1.989000e+03  2829.294891 -121.906132   \n",
       "2   0.6 -1989.000000 -1989.000000 -1.989000e+03  2829.294891 -121.906132   \n",
       "3   0.9 -1989.000000 -1989.000000 -1.989000e+03  2829.294891 -121.906132   \n",
       "4   1.2 -1989.000000 -1989.000000 -1.989000e+03  2829.294891 -121.906132   \n",
       "5   1.5 -1989.000000 -1989.000000 -1.989000e+03  2829.294891 -121.906132   \n",
       "6   1.8 -1989.000000 -1989.000000 -1.989000e+03  2829.294891 -121.906132   \n",
       "7   2.1 -1989.000000 -1989.000000 -1.989000e+03  2829.294891 -121.906132   \n",
       "8   2.4 -1989.000000 -1989.000000 -1.989000e+03  2829.294891 -121.906132   \n",
       "9   2.7 -1989.000000 -1989.000000 -1.989000e+03  2829.294891 -121.906132   \n",
       "10  3.0    -0.000043     0.000004 -3.468227e-20  2829.294891 -121.906132   \n",
       "\n",
       "               M  ID_ELEMENT  \n",
       "0   3.657184e+02           0  \n",
       "1   3.291466e+02           0  \n",
       "2   2.925747e+02           0  \n",
       "3   2.560029e+02           0  \n",
       "4   2.194310e+02           0  \n",
       "5   1.828592e+02           0  \n",
       "6   1.462874e+02           0  \n",
       "7   1.097155e+02           0  \n",
       "8   7.314368e+01           0  \n",
       "9   3.657184e+01           0  \n",
       "10 -5.684342e-14           0  "
      ]
     },
     "execution_count": 5,
     "metadata": {},
     "output_type": "execute_result"
    }
   ],
   "source": [
    "import pandas as pd\n",
    "FRAME_01_BAR_0 = pd.DataFrame(data = FRAME_01_BAR_0)\n",
    "FRAME_01_BAR_0.head(50)"
   ]
  },
  {
   "cell_type": "markdown",
   "metadata": {
    "id": "MGAWNQGr9CtJ"
   },
   "source": [
    "Using ```.loc``` to view results in third DIV (ID = 2)."
   ]
  },
  {
   "cell_type": "code",
   "execution_count": 6,
   "metadata": {
    "id": "FQHYxgEH9CtJ"
   },
   "outputs": [
    {
     "data": {
      "text/plain": [
       "X                0.600000\n",
       "UX           -1989.000000\n",
       "UY           -1989.000000\n",
       "UZ           -1989.000000\n",
       "N             2829.294891\n",
       "V             -121.906132\n",
       "M              292.574716\n",
       "ID_ELEMENT       0.000000\n",
       "Name: 2, dtype: float64"
      ]
     },
     "execution_count": 6,
     "metadata": {},
     "output_type": "execute_result"
    }
   ],
   "source": [
    "TEST = FRAME_01_BAR_0.loc[2]\n",
    "TEST"
   ]
  },
  {
   "cell_type": "markdown",
   "metadata": {
    "id": "vVoXFAc69CtK"
   },
   "source": [
    "View ```axial``` internal load in third DIV (ID = 2)."
   ]
  },
  {
   "cell_type": "code",
   "execution_count": 7,
   "metadata": {
    "id": "CtMS0hyz9CtK"
   },
   "outputs": [
    {
     "data": {
      "text/plain": [
       "2829.29489135508"
      ]
     },
     "execution_count": 7,
     "metadata": {},
     "output_type": "execute_result"
    }
   ],
   "source": [
    "TEST[4]"
   ]
  }
 ],
 "metadata": {
  "colab": {
   "name": "TRUSS_00_EXAMPLE_TXT.ipynb",
   "provenance": []
  },
  "kernelspec": {
   "display_name": "Python 3",
   "language": "python",
   "name": "python3"
  },
  "language_info": {
   "codemirror_mode": {
    "name": "ipython",
    "version": 3
   },
   "file_extension": ".py",
   "mimetype": "text/x-python",
   "name": "python",
   "nbconvert_exporter": "python",
   "pygments_lexer": "ipython3",
   "version": "3.8.3"
  }
 },
 "nbformat": 4,
 "nbformat_minor": 1
}
