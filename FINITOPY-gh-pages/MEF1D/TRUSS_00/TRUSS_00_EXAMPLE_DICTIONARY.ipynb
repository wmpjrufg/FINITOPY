{
 "cells": [
  {
   "cell_type": "markdown",
   "metadata": {
    "id": "auFYjstN9CtF"
   },
   "source": [
    "## 1.0 - Install and import library"
   ]
  },
  {
   "cell_type": "code",
   "execution_count": null,
   "metadata": {
    "id": "Ttc__SIc9CtG"
   },
   "outputs": [],
   "source": [
    "!pip install -i https://test.pypi.org/simple/ FINITO-FEM-TOOLBOX\n",
    "from FINITO_FEM_TOOLBOX import *"
   ]
  },
  {
   "cell_type": "markdown",
   "metadata": {
    "id": "dZ0BlJAr9CtG"
   },
   "source": [
    "## 2.0 - Run FINITO framework ```.txt``` file"
   ]
  },
  {
   "cell_type": "code",
   "execution_count": null,
   "metadata": {},
   "outputs": [],
   "source": [
    "# Dataset\n",
    "TRUSS_00 = {  \"TYPE_ELEMENT\": 0,        \n",
    "              \"TYPE_SOLUTION\": 0,       \n",
    "              \"N_NODES\": 5,\n",
    "              \"N_MATERIALS\": 1,\n",
    "              \"N_SECTIONS\": 1,\n",
    "              \"N_ELEMENTS\": 7,\n",
    "              \"N_DOFPRESCRIPTIONS\": 3,\n",
    "              \"N_DOFLOADED\": 2,\n",
    "              \"N_DOFSPRINGS\": 0,\n",
    "              \"COORDINATES\":            \n",
    "              np.array([[0.0, 0.0],      \n",
    "                [2.0, 0.0],\n",
    "                [4.0, 0.0],\n",
    "                [3.0,1.5],\n",
    "                [1.0,1.5]]),\n",
    "              \"ELEMENTS\": \n",
    "              np.array([[0, 1, 0, 0, 1, 1],\n",
    "                [1, 2, 0, 0, 1, 1],\n",
    "                [2, 3, 0, 0, 1, 1],\n",
    "                [3, 4, 0, 0, 1 ,1],\n",
    "                [0, 4, 0, 0, 1, 1],\n",
    "                [1, 4, 0, 0, 1, 1],\n",
    "                [1, 3, 0, 0, 1, 1]]),\n",
    "              \"MATERIALS\": \n",
    "              np.array([[200E9, 0.3, 78, 0.000010]]),\n",
    "              \"SECTIONS\": \n",
    "              np.array([[0.04, -1989, 0.000133, -1989, -1989]]),\n",
    "              \"PRESCRIBED DISPLACEMENTS\": \n",
    "              np.array([[0, 0, 0],\n",
    "                [0, 1, 0],\n",
    "                [2, 0, 0],\n",
    "                [2, 1, 0]]),\n",
    "              \"NODAL LOADS\": \n",
    "              np.array([[4, 0, 10000],\n",
    "                        [4, 1, -10000]]),\n",
    "              \"SPRINGS\": None}"
   ]
  },
  {
   "cell_type": "code",
   "execution_count": null,
   "metadata": {
    "id": "hY3y_ug69CtH"
   },
   "outputs": [],
   "source": [
    "TRUSS_00_RESULTS = MEF1D(DICTIONARY = TRUSS_00)"
   ]
  },
  {
   "cell_type": "markdown",
   "metadata": {
    "id": "9iy1a1wp9CtH"
   },
   "source": [
    "## 3.0 - View results in command line"
   ]
  },
  {
   "cell_type": "markdown",
   "metadata": {
    "id": "T1YnJOlj9CtH"
   },
   "source": [
    "View results about **0** element"
   ]
  },
  {
   "cell_type": "code",
   "execution_count": null,
   "metadata": {
    "id": "dugWcDj09CtH"
   },
   "outputs": [],
   "source": [
    "TRUSS_00_BAR_0 = TRUSS_00_RESULTS[0] \n",
    "print(TRUSS_00_BAR_0)"
   ]
  },
  {
   "cell_type": "markdown",
   "metadata": {
    "id": "LZ10Lcen9CtI"
   },
   "source": [
    "### 3.1 - View ```axial``` internal load"
   ]
  },
  {
   "cell_type": "code",
   "execution_count": null,
   "metadata": {
    "id": "hNAH0LNd9CtI"
   },
   "outputs": [],
   "source": [
    "TRUSS_00_BAR_0['N']"
   ]
  },
  {
   "cell_type": "markdown",
   "metadata": {
    "id": "Ifs1UB9E9CtI"
   },
   "source": [
    "- ```TRUSS_00_BAR_0['N'][0]``` - First DIV or 0 internal node in 0 Element;\n",
    "- ```TRUSS_00_BAR_0['N'][10]``` - Last DIV or 1 internal node in 0 Element."
   ]
  },
  {
   "cell_type": "markdown",
   "metadata": {
    "id": "FjgGFywT9CtJ"
   },
   "source": [
    "### 3.1 - Interesting view ```axial``` internal load using ```pandas``` framework"
   ]
  },
  {
   "cell_type": "code",
   "execution_count": null,
   "metadata": {
    "id": "4PcyVvNl9CtJ"
   },
   "outputs": [],
   "source": [
    "import pandas as pd\n",
    "TRUSS_00_BAR_0 = pd.DataFrame(data = TRUSS_00_BAR_0)\n",
    "TRUSS_00_BAR_0.head(50)"
   ]
  },
  {
   "cell_type": "markdown",
   "metadata": {
    "id": "MGAWNQGr9CtJ"
   },
   "source": [
    "Using ```.loc``` to view results in third DIV (ID = 2)."
   ]
  },
  {
   "cell_type": "code",
   "execution_count": null,
   "metadata": {
    "id": "FQHYxgEH9CtJ"
   },
   "outputs": [],
   "source": [
    "TEST = TRUSS_00_BAR_0.loc[2]\n",
    "TEST"
   ]
  },
  {
   "cell_type": "markdown",
   "metadata": {
    "id": "vVoXFAc69CtK"
   },
   "source": [
    "View ```axial``` internal load in third DIV (ID = 2)."
   ]
  },
  {
   "cell_type": "code",
   "execution_count": null,
   "metadata": {
    "id": "CtMS0hyz9CtK"
   },
   "outputs": [],
   "source": [
    "TEST[4]"
   ]
  }
 ],
 "metadata": {
  "colab": {
   "name": "TRUSS_00_EXAMPLE_TXT.ipynb",
   "provenance": []
  },
  "kernelspec": {
   "display_name": "Python 3",
   "language": "python",
   "name": "python3"
  },
  "language_info": {
   "codemirror_mode": {
    "name": "ipython",
    "version": 3
   },
   "file_extension": ".py",
   "mimetype": "text/x-python",
   "name": "python",
   "nbconvert_exporter": "python",
   "pygments_lexer": "ipython3",
   "version": "3.8.3"
  }
 },
 "nbformat": 4,
 "nbformat_minor": 1
}
