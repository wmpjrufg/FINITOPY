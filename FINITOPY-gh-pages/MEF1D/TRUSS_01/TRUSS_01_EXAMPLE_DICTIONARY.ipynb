{
 "cells": [
  {
   "cell_type": "markdown",
   "metadata": {},
   "source": [
    "## 1.0 - Install and import library"
   ]
  },
  {
   "cell_type": "code",
   "execution_count": 1,
   "metadata": {},
   "outputs": [
    {
     "name": "stdout",
     "output_type": "stream",
     "text": [
      "Looking in indexes: https://test.pypi.org/simple/\n",
      "Requirement already satisfied: FINITO-FEM-TOOLBOX in c:\\programdata\\anaconda3\\lib\\site-packages (0.0.0)\n"
     ]
    }
   ],
   "source": [
    "!pip install -i https://test.pypi.org/simple/ FINITO-FEM-TOOLBOX\n",
    "from FINITO_FEM_TOOLBOX import *"
   ]
  },
  {
   "cell_type": "markdown",
   "metadata": {},
   "source": [
    "## 2.0 - Run FINITO framework ```.txt``` file"
   ]
  },
  {
   "cell_type": "code",
   "execution_count": 2,
   "metadata": {},
   "outputs": [],
   "source": [
    "# Dataset\n",
    "TRUSS_01 = {  \"TYPE_ELEMENT\": 0,        \n",
    "              \"TYPE_SOLUTION\": 0,       \n",
    "              \"N_NODES\": 5,\n",
    "              \"N_MATERIALS\": 1,\n",
    "              \"N_SECTIONS\": 1,\n",
    "              \"N_ELEMENTS\": 7,\n",
    "              \"N_DOFPRESCRIPTIONS\": 3,\n",
    "              \"N_DOFLOADED\": 4,\n",
    "              \"N_DOFSPRINGS\": 1,\n",
    "              \"COORDINATES\":            \n",
    "              np.array([[0.0, 0.0],      \n",
    "                [2.0, 0.0],\n",
    "                [4.0, 0.0],\n",
    "                [3.0,1.5],\n",
    "                [1.0,1.5]]),\n",
    "              \"ELEMENTS\": \n",
    "              np.array([[0, 1, 0, 0, 1, 1],\n",
    "                [1, 2, 0, 0, 1, 1],\n",
    "                [2, 3, 0, 0, 1, 1],\n",
    "                [3, 4, 0, 0, 1 ,1],\n",
    "                [0, 4, 0, 0, 1, 1],\n",
    "                [1, 4, 0, 0, 1, 1],\n",
    "                [1, 3, 0, 0, 1, 1]]),\n",
    "              \"MATERIALS\": \n",
    "              np.array([[200E9, 0.3, 78, 0.000010]]),\n",
    "              \"SECTIONS\": \n",
    "              np.array([[0.04, -1989, 0.000133, -1989, -1989]]),\n",
    "              \"PRESCRIBED DISPLACEMENTS\": \n",
    "              np.array([[0, 0, 0],\n",
    "                [0, 1, 0],\n",
    "                [2, 0, 0]]),\n",
    "              \"NODAL LOADS\": \n",
    "              np.array([[3, 0, 10000],\n",
    "                        [3, 1, -10000],\n",
    "                        [4, 0, 10000],\n",
    "                        [4, 1, -10000]]),\n",
    "              \"SPRINGS\": \n",
    "              np.array([[2, 1, 5E3]])}"
   ]
  },
  {
   "cell_type": "code",
   "execution_count": 3,
   "metadata": {},
   "outputs": [],
   "source": [
    "TRUSS_01_RESULTS = MEF1D(DICTIONARY = TRUSS_01)"
   ]
  },
  {
   "cell_type": "markdown",
   "metadata": {},
   "source": [
    "## 3.0 - View results in command line"
   ]
  },
  {
   "cell_type": "markdown",
   "metadata": {},
   "source": [
    "View results about **0** element."
   ]
  },
  {
   "cell_type": "code",
   "execution_count": 4,
   "metadata": {},
   "outputs": [
    {
     "name": "stdout",
     "output_type": "stream",
     "text": [
      "{'X': array([0. , 0.2, 0.4, 0.6, 0.8, 1. , 1.2, 1.4, 1.6, 1.8, 2. ]), 'UX': array([ 0.000e+00, -1.989e+03, -1.989e+03, -1.989e+03, -1.989e+03,\n",
      "       -1.989e+03, -1.989e+03, -1.989e+03, -1.989e+03, -1.989e+03,\n",
      "        1.250e-06]), 'UY': array([ 0.00000000e+00, -1.98900000e+03, -1.98900000e+03, -1.98900000e+03,\n",
      "       -1.98900000e+03, -1.98900000e+03, -1.98900000e+03, -1.98900000e+03,\n",
      "       -1.98900000e+03, -1.98900000e+03, -1.75000437e+00]), 'UZ': array([ 0.00000000e+00, -1.98900000e+03, -1.98900000e+03, -1.98900000e+03,\n",
      "       -1.98900000e+03, -1.98900000e+03, -1.98900000e+03, -1.98900000e+03,\n",
      "       -1.98900000e+03, -1.98900000e+03,  6.19052534e-10]), 'N': array([5000.00000312, 5000.00000312, 5000.00000312, 5000.00000312,\n",
      "       5000.00000312, 5000.00000312, 5000.00000312, 5000.00000312,\n",
      "       5000.00000312, 5000.00000312, 5000.00000312]), 'V': array([0., 0., 0., 0., 0., 0., 0., 0., 0., 0., 0.]), 'M': array([0., 0., 0., 0., 0., 0., 0., 0., 0., 0., 0.]), 'ID_ELEMENT': 0}\n"
     ]
    }
   ],
   "source": [
    "TRUSS_01_BAR_0 = TRUSS_01_RESULTS[0] \n",
    "print(TRUSS_01_BAR_0)"
   ]
  },
  {
   "cell_type": "markdown",
   "metadata": {},
   "source": [
    "### 3.1 - View ```axial``` internal load"
   ]
  },
  {
   "cell_type": "code",
   "execution_count": 5,
   "metadata": {},
   "outputs": [
    {
     "data": {
      "text/plain": [
       "array([5000.00000312, 5000.00000312, 5000.00000312, 5000.00000312,\n",
       "       5000.00000312, 5000.00000312, 5000.00000312, 5000.00000312,\n",
       "       5000.00000312, 5000.00000312, 5000.00000312])"
      ]
     },
     "execution_count": 5,
     "metadata": {},
     "output_type": "execute_result"
    }
   ],
   "source": [
    "TRUSS_01_BAR_0['N']"
   ]
  },
  {
   "cell_type": "markdown",
   "metadata": {},
   "source": [
    "- ```TRUSS_01_BAR_0['N'][0]``` - First DIV or 0 internal node in 0 Element;\n",
    "- ```TRUSS_01_BAR_0['N'][10]``` - Last DIV or 1 internal node in 0 Element."
   ]
  },
  {
   "cell_type": "markdown",
   "metadata": {},
   "source": [
    "### 3.1 - Interesting view ```axial``` internal load using ```pandas``` framework"
   ]
  },
  {
   "cell_type": "code",
   "execution_count": 6,
   "metadata": {},
   "outputs": [
    {
     "data": {
      "text/html": [
       "<div>\n",
       "<style scoped>\n",
       "    .dataframe tbody tr th:only-of-type {\n",
       "        vertical-align: middle;\n",
       "    }\n",
       "\n",
       "    .dataframe tbody tr th {\n",
       "        vertical-align: top;\n",
       "    }\n",
       "\n",
       "    .dataframe thead th {\n",
       "        text-align: right;\n",
       "    }\n",
       "</style>\n",
       "<table border=\"1\" class=\"dataframe\">\n",
       "  <thead>\n",
       "    <tr style=\"text-align: right;\">\n",
       "      <th></th>\n",
       "      <th>X</th>\n",
       "      <th>UX</th>\n",
       "      <th>UY</th>\n",
       "      <th>UZ</th>\n",
       "      <th>N</th>\n",
       "      <th>V</th>\n",
       "      <th>M</th>\n",
       "      <th>ID_ELEMENT</th>\n",
       "    </tr>\n",
       "  </thead>\n",
       "  <tbody>\n",
       "    <tr>\n",
       "      <th>0</th>\n",
       "      <td>0.0</td>\n",
       "      <td>0.000000</td>\n",
       "      <td>0.000000</td>\n",
       "      <td>0.000000e+00</td>\n",
       "      <td>5000.000003</td>\n",
       "      <td>0.0</td>\n",
       "      <td>0.0</td>\n",
       "      <td>0</td>\n",
       "    </tr>\n",
       "    <tr>\n",
       "      <th>1</th>\n",
       "      <td>0.2</td>\n",
       "      <td>-1989.000000</td>\n",
       "      <td>-1989.000000</td>\n",
       "      <td>-1.989000e+03</td>\n",
       "      <td>5000.000003</td>\n",
       "      <td>0.0</td>\n",
       "      <td>0.0</td>\n",
       "      <td>0</td>\n",
       "    </tr>\n",
       "    <tr>\n",
       "      <th>2</th>\n",
       "      <td>0.4</td>\n",
       "      <td>-1989.000000</td>\n",
       "      <td>-1989.000000</td>\n",
       "      <td>-1.989000e+03</td>\n",
       "      <td>5000.000003</td>\n",
       "      <td>0.0</td>\n",
       "      <td>0.0</td>\n",
       "      <td>0</td>\n",
       "    </tr>\n",
       "    <tr>\n",
       "      <th>3</th>\n",
       "      <td>0.6</td>\n",
       "      <td>-1989.000000</td>\n",
       "      <td>-1989.000000</td>\n",
       "      <td>-1.989000e+03</td>\n",
       "      <td>5000.000003</td>\n",
       "      <td>0.0</td>\n",
       "      <td>0.0</td>\n",
       "      <td>0</td>\n",
       "    </tr>\n",
       "    <tr>\n",
       "      <th>4</th>\n",
       "      <td>0.8</td>\n",
       "      <td>-1989.000000</td>\n",
       "      <td>-1989.000000</td>\n",
       "      <td>-1.989000e+03</td>\n",
       "      <td>5000.000003</td>\n",
       "      <td>0.0</td>\n",
       "      <td>0.0</td>\n",
       "      <td>0</td>\n",
       "    </tr>\n",
       "    <tr>\n",
       "      <th>5</th>\n",
       "      <td>1.0</td>\n",
       "      <td>-1989.000000</td>\n",
       "      <td>-1989.000000</td>\n",
       "      <td>-1.989000e+03</td>\n",
       "      <td>5000.000003</td>\n",
       "      <td>0.0</td>\n",
       "      <td>0.0</td>\n",
       "      <td>0</td>\n",
       "    </tr>\n",
       "    <tr>\n",
       "      <th>6</th>\n",
       "      <td>1.2</td>\n",
       "      <td>-1989.000000</td>\n",
       "      <td>-1989.000000</td>\n",
       "      <td>-1.989000e+03</td>\n",
       "      <td>5000.000003</td>\n",
       "      <td>0.0</td>\n",
       "      <td>0.0</td>\n",
       "      <td>0</td>\n",
       "    </tr>\n",
       "    <tr>\n",
       "      <th>7</th>\n",
       "      <td>1.4</td>\n",
       "      <td>-1989.000000</td>\n",
       "      <td>-1989.000000</td>\n",
       "      <td>-1.989000e+03</td>\n",
       "      <td>5000.000003</td>\n",
       "      <td>0.0</td>\n",
       "      <td>0.0</td>\n",
       "      <td>0</td>\n",
       "    </tr>\n",
       "    <tr>\n",
       "      <th>8</th>\n",
       "      <td>1.6</td>\n",
       "      <td>-1989.000000</td>\n",
       "      <td>-1989.000000</td>\n",
       "      <td>-1.989000e+03</td>\n",
       "      <td>5000.000003</td>\n",
       "      <td>0.0</td>\n",
       "      <td>0.0</td>\n",
       "      <td>0</td>\n",
       "    </tr>\n",
       "    <tr>\n",
       "      <th>9</th>\n",
       "      <td>1.8</td>\n",
       "      <td>-1989.000000</td>\n",
       "      <td>-1989.000000</td>\n",
       "      <td>-1.989000e+03</td>\n",
       "      <td>5000.000003</td>\n",
       "      <td>0.0</td>\n",
       "      <td>0.0</td>\n",
       "      <td>0</td>\n",
       "    </tr>\n",
       "    <tr>\n",
       "      <th>10</th>\n",
       "      <td>2.0</td>\n",
       "      <td>0.000001</td>\n",
       "      <td>-1.750004</td>\n",
       "      <td>6.190525e-10</td>\n",
       "      <td>5000.000003</td>\n",
       "      <td>0.0</td>\n",
       "      <td>0.0</td>\n",
       "      <td>0</td>\n",
       "    </tr>\n",
       "  </tbody>\n",
       "</table>\n",
       "</div>"
      ],
      "text/plain": [
       "      X           UX           UY            UZ            N    V    M  \\\n",
       "0   0.0     0.000000     0.000000  0.000000e+00  5000.000003  0.0  0.0   \n",
       "1   0.2 -1989.000000 -1989.000000 -1.989000e+03  5000.000003  0.0  0.0   \n",
       "2   0.4 -1989.000000 -1989.000000 -1.989000e+03  5000.000003  0.0  0.0   \n",
       "3   0.6 -1989.000000 -1989.000000 -1.989000e+03  5000.000003  0.0  0.0   \n",
       "4   0.8 -1989.000000 -1989.000000 -1.989000e+03  5000.000003  0.0  0.0   \n",
       "5   1.0 -1989.000000 -1989.000000 -1.989000e+03  5000.000003  0.0  0.0   \n",
       "6   1.2 -1989.000000 -1989.000000 -1.989000e+03  5000.000003  0.0  0.0   \n",
       "7   1.4 -1989.000000 -1989.000000 -1.989000e+03  5000.000003  0.0  0.0   \n",
       "8   1.6 -1989.000000 -1989.000000 -1.989000e+03  5000.000003  0.0  0.0   \n",
       "9   1.8 -1989.000000 -1989.000000 -1.989000e+03  5000.000003  0.0  0.0   \n",
       "10  2.0     0.000001    -1.750004  6.190525e-10  5000.000003  0.0  0.0   \n",
       "\n",
       "    ID_ELEMENT  \n",
       "0            0  \n",
       "1            0  \n",
       "2            0  \n",
       "3            0  \n",
       "4            0  \n",
       "5            0  \n",
       "6            0  \n",
       "7            0  \n",
       "8            0  \n",
       "9            0  \n",
       "10           0  "
      ]
     },
     "execution_count": 6,
     "metadata": {},
     "output_type": "execute_result"
    }
   ],
   "source": [
    "import pandas as pd\n",
    "TRUSS_01_BAR_0 = pd.DataFrame(data = TRUSS_01_BAR_0)\n",
    "TRUSS_01_BAR_0.head(50)"
   ]
  },
  {
   "cell_type": "markdown",
   "metadata": {},
   "source": [
    "Using ```.loc``` to view results in third DIV (ID = 2)."
   ]
  },
  {
   "cell_type": "code",
   "execution_count": 7,
   "metadata": {},
   "outputs": [
    {
     "data": {
      "text/plain": [
       "X                0.400000\n",
       "UX           -1989.000000\n",
       "UY           -1989.000000\n",
       "UZ           -1989.000000\n",
       "N             5000.000003\n",
       "V                0.000000\n",
       "M                0.000000\n",
       "ID_ELEMENT       0.000000\n",
       "Name: 2, dtype: float64"
      ]
     },
     "execution_count": 7,
     "metadata": {},
     "output_type": "execute_result"
    }
   ],
   "source": [
    "TEST = TRUSS_01_BAR_0.loc[2]\n",
    "TEST"
   ]
  },
  {
   "cell_type": "markdown",
   "metadata": {},
   "source": [
    "View ```axial``` internal load in third DIV (ID = 2)."
   ]
  },
  {
   "cell_type": "code",
   "execution_count": 8,
   "metadata": {},
   "outputs": [
    {
     "data": {
      "text/plain": [
       "5000.000003124196"
      ]
     },
     "execution_count": 8,
     "metadata": {},
     "output_type": "execute_result"
    }
   ],
   "source": [
    "TEST[4]"
   ]
  }
 ],
 "metadata": {
  "kernelspec": {
   "display_name": "Python 3",
   "language": "python",
   "name": "python3"
  },
  "language_info": {
   "codemirror_mode": {
    "name": "ipython",
    "version": 3
   },
   "file_extension": ".py",
   "mimetype": "text/x-python",
   "name": "python",
   "nbconvert_exporter": "python",
   "pygments_lexer": "ipython3",
   "version": "3.8.3"
  }
 },
 "nbformat": 4,
 "nbformat_minor": 4
}
