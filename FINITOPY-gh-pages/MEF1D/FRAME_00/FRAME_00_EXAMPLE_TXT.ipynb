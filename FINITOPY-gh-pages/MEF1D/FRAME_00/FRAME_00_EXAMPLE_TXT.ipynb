{
 "cells": [
  {
   "cell_type": "markdown",
   "metadata": {
    "id": "auFYjstN9CtF"
   },
   "source": [
    "## 1.0 - Install and import library"
   ]
  },
  {
   "cell_type": "code",
   "execution_count": null,
   "metadata": {
    "id": "Ttc__SIc9CtG"
   },
   "outputs": [],
   "source": [
    "!pip install -i https://test.pypi.org/simple/ FINITO-FEM-TOOLBOX\n",
    "from FINITO_FEM_TOOLBOX import *"
   ]
  },
  {
   "cell_type": "markdown",
   "metadata": {
    "id": "dZ0BlJAr9CtG"
   },
   "source": [
    "## 2.0 - Run FINITO framework ```.txt``` file"
   ]
  },
  {
   "cell_type": "code",
   "execution_count": null,
   "metadata": {
    "id": "hY3y_ug69CtH"
   },
   "outputs": [],
   "source": [
    "FRAME_00_RESULTS = MEF1D(FILENAME = 'FRAME_00.txt')"
   ]
  },
  {
   "cell_type": "markdown",
   "metadata": {
    "id": "9iy1a1wp9CtH"
   },
   "source": [
    "## 3.0 - View results in command line"
   ]
  },
  {
   "cell_type": "markdown",
   "metadata": {
    "id": "T1YnJOlj9CtH"
   },
   "source": [
    "View results about **0** element"
   ]
  },
  {
   "cell_type": "code",
   "execution_count": null,
   "metadata": {
    "id": "dugWcDj09CtH"
   },
   "outputs": [],
   "source": [
    "FRAME_00_BAR_0 = FRAME_00_RESULTS[0] \n",
    "print(FRAME_00_BAR_0)"
   ]
  },
  {
   "cell_type": "markdown",
   "metadata": {
    "id": "LZ10Lcen9CtI"
   },
   "source": [
    "### 3.1 - View ```axial``` internal load"
   ]
  },
  {
   "cell_type": "code",
   "execution_count": null,
   "metadata": {
    "id": "hNAH0LNd9CtI"
   },
   "outputs": [],
   "source": [
    "FRAME_00_BAR_0['N']"
   ]
  },
  {
   "cell_type": "markdown",
   "metadata": {
    "id": "Ifs1UB9E9CtI"
   },
   "source": [
    "- ```FRAME_00_BAR_0['N'][0]``` - First DIV or 0 internal node in 0 Element;\n",
    "- ```FRAME_00_BAR_0['N'][10]``` - Last DIV or 1 internal node in 0 Element."
   ]
  },
  {
   "cell_type": "markdown",
   "metadata": {
    "id": "FjgGFywT9CtJ"
   },
   "source": [
    "### 3.1 - Interesting view ```axial``` internal load using ```pandas``` framework"
   ]
  },
  {
   "cell_type": "code",
   "execution_count": null,
   "metadata": {
    "id": "4PcyVvNl9CtJ"
   },
   "outputs": [],
   "source": [
    "import pandas as pd\n",
    "FRAME_00_BAR_0 = pd.DataFrame(data = FRAME_00_BAR_0)\n",
    "FRAME_00_BAR_0.head(50)"
   ]
  },
  {
   "cell_type": "markdown",
   "metadata": {
    "id": "MGAWNQGr9CtJ"
   },
   "source": [
    "Using ```.loc``` to view results in third DIV (ID = 2)."
   ]
  },
  {
   "cell_type": "code",
   "execution_count": null,
   "metadata": {
    "id": "FQHYxgEH9CtJ"
   },
   "outputs": [],
   "source": [
    "TEST = FRAME_00_BAR_0.loc[2]\n",
    "TEST"
   ]
  },
  {
   "cell_type": "markdown",
   "metadata": {
    "id": "vVoXFAc69CtK"
   },
   "source": [
    "View ```axial``` internal load in third DIV (ID = 2)."
   ]
  },
  {
   "cell_type": "code",
   "execution_count": null,
   "metadata": {
    "id": "CtMS0hyz9CtK"
   },
   "outputs": [],
   "source": [
    "TEST[4]"
   ]
  }
 ],
 "metadata": {
  "colab": {
   "name": "TRUSS_00_EXAMPLE_TXT.ipynb",
   "provenance": []
  },
  "kernelspec": {
   "display_name": "Python 3",
   "language": "python",
   "name": "python3"
  },
  "language_info": {
   "codemirror_mode": {
    "name": "ipython",
    "version": 3
   },
   "file_extension": ".py",
   "mimetype": "text/x-python",
   "name": "python",
   "nbconvert_exporter": "python",
   "pygments_lexer": "ipython3",
   "version": "3.8.3"
  }
 },
 "nbformat": 4,
 "nbformat_minor": 1
}
